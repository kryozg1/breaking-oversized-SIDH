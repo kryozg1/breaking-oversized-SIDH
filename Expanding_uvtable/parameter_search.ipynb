{
 "cells": [
  {
   "cell_type": "code",
   "execution_count": null,
   "id": "fddaa6a1-7770-42d2-99c7-23175f3eade1",
   "metadata": {},
   "outputs": [],
   "source": [
    "b = 241\n",
    "while b < 370:\n",
    "\ta = int(b*log(3,2))-1\n",
    "\tcond = 0\n",
    "\tp = 1\n",
    "\twhile cond == 0:\n",
    "\t\tp = 2^a * 3^b -1\n",
    "\t\tif is_prime(p) and p%4 == 3:\n",
    "\t\t\tcond = 1\n",
    "\t\telse:\n",
    "\t\t\ta+=1\n",
    "\t\tif a > 100 + int(b*log(3,2)):\n",
    "\t\t\tcond = 2\n",
    "\tif cond == 1:\n",
    "\t\tprint(f'Parameter set: a = {a}, b = {b}, balance = {abs(a-math.ceil(b*log(3,2)))}')\n",
    "\tb += 1"
   ]
  }
 ],
 "metadata": {
  "kernelspec": {
   "display_name": "SageMath 10.5",
   "language": "sage",
   "name": "sagemath"
  },
  "language_info": {
   "codemirror_mode": {
    "name": "ipython",
    "version": 3
   },
   "file_extension": ".py",
   "mimetype": "text/x-python",
   "name": "python",
   "nbconvert_exporter": "python",
   "pygments_lexer": "ipython3",
   "version": "3.11.11"
  }
 },
 "nbformat": 4,
 "nbformat_minor": 5
}
